{
 "cells": [
  {
   "cell_type": "code",
   "execution_count": 17,
   "id": "f278c6c6-7b6f-4d92-aaee-36a8dcf18b88",
   "metadata": {},
   "outputs": [],
   "source": [
    "import numpy as np\n",
    "import torch\n",
    "import torch.nn.functional as F\n",
    "from PIL import Image\n",
    "from skimage.data import astronaut\n",
    "from viztracer import VizTracer\n",
    "\n",
    "def folding():\n",
    "    gray_astronaut2 = np.uint8(np.average(astronaut(), axis=2))\n",
    "    X = torch.Tensor(gray_astronaut2)[:500, :500]\n",
    "    \n",
    "    kh, kw = 100, 100 # kernel size\n",
    "    dh, dw = 100, 100 # stride\n",
    "    with VizTracer(output_file=\"sliding_window_folding.json\") as tracer:\n",
    "        patches = X.unfold(0, kh, dh).unfold(1, kw, dw)\n",
    "        unfold_shape = patches.size()\n",
    "        patches = patches.contiguous().view(-1, kh, kw)\n",
    "    print(patches.shape)\n",
    "    \n",
    "    # Reshape back\n",
    "    patches_orig = patches.view(unfold_shape)\n",
    "    output_h = unfold_shape[0] * unfold_shape[2]\n",
    "    output_w = unfold_shape[1] * unfold_shape[3]\n",
    "    patches_orig = patches_orig.permute(0, 2, 1, 3).contiguous()\n",
    "    patches_orig = patches_orig.view(output_h, output_w)\n",
    "    \n",
    "    # Check for equality\n",
    "    print((patches_orig == X).all())\n",
    "    \n",
    "    Image.fromarray(np.uint8(patches_orig), 'L')"
   ]
  },
  {
   "cell_type": "code",
   "execution_count": 20,
   "id": "0a472463-7070-4072-a4b7-e461aa204138",
   "metadata": {},
   "outputs": [],
   "source": [
    "def main():\n",
    "    patch_size = 100\n",
    "    stride = 100\n",
    "    H, W = X.shape\n",
    "    patches = []\n",
    "    # Loop over the image\n",
    "    for y in range(0, H - patch_size + 1, stride):\n",
    "        for x in range(0, W - patch_size + 1, stride):\n",
    "            # Extract a patch\n",
    "            patch = X[y:y+patch_size, x:x+patch_size]\n",
    "            patches.append(patch)\n",
    "    torch.cat(patches)"
   ]
  },
  {
   "cell_type": "code",
   "execution_count": 21,
   "id": "14f767cb-8387-446b-88ff-937000955fc3",
   "metadata": {},
   "outputs": [
    {
     "name": "stdout",
     "output_type": "stream",
     "text": [
      "Total Entries: 29                                                               \n",
      "Use the following command to open the report:\n",
      "\u001b[92mvizviewer C:\\workspace\\projects\\talk\\naive_sliding_window.json\u001b[0m\n"
     ]
    }
   ],
   "source": [
    "with VizTracer(output_file=\"naive_sliding_window.json\") as tracer:\n",
    "    main()\n",
    "# folding()"
   ]
  },
  {
   "cell_type": "code",
   "execution_count": null,
   "id": "5736e5e1-e1fe-4f90-a87e-16825f11d36a",
   "metadata": {},
   "outputs": [
    {
     "name": "stdout",
     "output_type": "stream",
     "text": [
      "Total Entries: 28                                                               \n",
      "Use the following command to open the report:\n",
      "\u001b[92mvizviewer C:\\workspace\\projects\\talk\\naive_sliding_window.json\u001b[0m\n"
     ]
    }
   ],
   "source": []
  }
 ],
 "metadata": {
  "kernelspec": {
   "display_name": "Python 3 (ipykernel)",
   "language": "python",
   "name": "python3"
  },
  "language_info": {
   "codemirror_mode": {
    "name": "ipython",
    "version": 3
   },
   "file_extension": ".py",
   "mimetype": "text/x-python",
   "name": "python",
   "nbconvert_exporter": "python",
   "pygments_lexer": "ipython3",
   "version": "3.11.5"
  }
 },
 "nbformat": 4,
 "nbformat_minor": 5
}
