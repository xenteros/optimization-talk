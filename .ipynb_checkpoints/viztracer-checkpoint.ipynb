{
 "cells": [
  {
   "cell_type": "code",
   "execution_count": 3,
   "id": "6086c388-29fb-4b82-8738-3b198416f9cc",
   "metadata": {
    "scrolled": true
   },
   "outputs": [
    {
     "name": "stdout",
     "output_type": "stream",
     "text": [
      "Requirement already satisfied: viztracer in c:\\workspace\\projects\\talk\\venv\\lib\\site-packages (0.16.2)\n",
      "Requirement already satisfied: objprint>0.1.3 in c:\\workspace\\projects\\talk\\venv\\lib\\site-packages (from viztracer) (0.2.3)\n"
     ]
    },
    {
     "name": "stderr",
     "output_type": "stream",
     "text": [
      "\n",
      "[notice] A new release of pip is available: 23.2.1 -> 24.0\n",
      "[notice] To update, run: python.exe -m pip install --upgrade pip\n"
     ]
    },
    {
     "name": "stdout",
     "output_type": "stream",
     "text": [
      "Requirement already satisfied: pytube in c:\\workspace\\projects\\talk\\venv\\lib\\site-packages (15.0.0)\n"
     ]
    },
    {
     "name": "stderr",
     "output_type": "stream",
     "text": [
      "\n",
      "[notice] A new release of pip is available: 23.2.1 -> 24.0\n",
      "[notice] To update, run: python.exe -m pip install --upgrade pip\n"
     ]
    },
    {
     "ename": "AttributeError",
     "evalue": "'YouTube' object has no attribute 'download'",
     "output_type": "error",
     "traceback": [
      "\u001b[1;31m---------------------------------------------------------------------------\u001b[0m",
      "\u001b[1;31mAttributeError\u001b[0m                            Traceback (most recent call last)",
      "Cell \u001b[1;32mIn[3], line 8\u001b[0m\n\u001b[0;32m      5\u001b[0m \u001b[38;5;28;01mfrom\u001b[39;00m \u001b[38;5;21;01mpytube\u001b[39;00m \u001b[38;5;28;01mimport\u001b[39;00m YouTube\n\u001b[0;32m      6\u001b[0m YouTube(url)\u001b[38;5;241m.\u001b[39mstreams\u001b[38;5;241m.\u001b[39mfirst()\u001b[38;5;241m.\u001b[39mdownload(\u001b[38;5;124m'\u001b[39m\u001b[38;5;124msave_path\u001b[39m\u001b[38;5;124m'\u001b[39m)\n\u001b[1;32m----> 8\u001b[0m \u001b[43myt\u001b[49m\u001b[38;5;241;43m.\u001b[39;49m\u001b[43mdownload\u001b[49m(\u001b[38;5;124m'\u001b[39m\u001b[38;5;124m'\u001b[39m)\n",
      "\u001b[1;31mAttributeError\u001b[0m: 'YouTube' object has no attribute 'download'"
     ]
    }
   ],
   "source": [
    "!pip install viztracer\n",
    "\n",
    "url = \"https://www.youtube.com/watch?v=oyxhHkOel2I\"\n",
    "!pip install pytube\n",
    "from pytube import YouTube\n",
    "YouTube(url).streams.first().download('save_path')"
   ]
  },
  {
   "cell_type": "code",
   "execution_count": 8,
   "id": "69c4f03f-69da-44ee-bde1-5557888cddcd",
   "metadata": {},
   "outputs": [
    {
     "ename": "NameError",
     "evalue": "name 'fps' is not defined",
     "output_type": "error",
     "traceback": [
      "\u001b[1;31m---------------------------------------------------------------------------\u001b[0m",
      "\u001b[1;31mNameError\u001b[0m                                 Traceback (most recent call last)",
      "Cell \u001b[1;32mIn[8], line 10\u001b[0m\n\u001b[0;32m      7\u001b[0m cap \u001b[38;5;241m=\u001b[39m cv\u001b[38;5;241m.\u001b[39mVideoCapture(\u001b[38;5;124m\"\u001b[39m\u001b[38;5;124msave_path/vid.mp4\u001b[39m\u001b[38;5;124m\"\u001b[39m)\n\u001b[0;32m      9\u001b[0m fourcc \u001b[38;5;241m=\u001b[39m cv2\u001b[38;5;241m.\u001b[39mVideoWriter_fourcc(\u001b[38;5;241m*\u001b[39m\u001b[38;5;124m'\u001b[39m\u001b[38;5;124mmp4v\u001b[39m\u001b[38;5;124m'\u001b[39m)  \u001b[38;5;66;03m# Be sure to use the correct codec\u001b[39;00m\n\u001b[1;32m---> 10\u001b[0m out \u001b[38;5;241m=\u001b[39m cv2\u001b[38;5;241m.\u001b[39mVideoWriter(\u001b[38;5;124m'\u001b[39m\u001b[38;5;124moutput.mp4\u001b[39m\u001b[38;5;124m'\u001b[39m, fourcc, \u001b[43mfps\u001b[49m, (frame_width, frame_height), \u001b[38;5;241m0\u001b[39m)\n\u001b[0;32m     12\u001b[0m \u001b[38;5;66;03m# ret = a boolean return value from \u001b[39;00m\n\u001b[0;32m     13\u001b[0m \u001b[38;5;66;03m# getting the frame, first_frame = the \u001b[39;00m\n\u001b[0;32m     14\u001b[0m \u001b[38;5;66;03m# first frame in the entire video sequence \u001b[39;00m\n\u001b[0;32m     15\u001b[0m ret, first_frame \u001b[38;5;241m=\u001b[39m cap\u001b[38;5;241m.\u001b[39mread() \n",
      "\u001b[1;31mNameError\u001b[0m: name 'fps' is not defined"
     ]
    }
   ],
   "source": [
    "import cv2 as cv \n",
    "import numpy as np \n",
    "  \n",
    "  \n",
    "# The video feed is read in as \n",
    "# a VideoCapture object \n",
    "cap = cv.VideoCapture(\"save_path/vid.mp4\")\n",
    "fps = cap.get(cv2.CAP_PROP_FPS)\n",
    "frame_width = int(cap.get(3))\n",
    "frame_height = int(cap.get(4))\n",
    "fourcc = cv2.VideoWriter_fourcc(*'mp4v')  # Be sure to use the correct codec\n",
    "out = cv2.VideoWriter('output.mp4', fourcc, fps, (frame_width, frame_height), 0)\n",
    "  \n",
    "# ret = a boolean return value from \n",
    "# getting the frame, first_frame = the \n",
    "# first frame in the entire video sequence \n",
    "ret, first_frame = cap.read() \n",
    "  \n",
    "# Converts frame to grayscale because we \n",
    "# only need the luminance channel for \n",
    "# detecting edges - less computationally  \n",
    "# expensive \n",
    "prev_gray = cv.cvtColor(first_frame, cv.COLOR_BGR2GRAY) \n",
    "  \n",
    "# Creates an image filled with zero \n",
    "# intensities with the same dimensions  \n",
    "# as the frame \n",
    "mask = np.zeros_like(first_frame) \n",
    "  \n",
    "# Sets image saturation to maximum \n",
    "mask[..., 1] = 255\n",
    "  \n",
    "while(cap.isOpened()): \n",
    "      \n",
    "    # ret = a boolean return value from getting \n",
    "    # the frame, frame = the current frame being \n",
    "    # projected in the video \n",
    "    ret, frame = cap.read() \n",
    "      \n",
    "    # Opens a new window and displays the input \n",
    "    # frame \n",
    "    cv.imshow(\"input\", frame) \n",
    "      \n",
    "    # Converts each frame to grayscale - we previously  \n",
    "    # only converted the first frame to grayscale \n",
    "    gray = cv.cvtColor(frame, cv.COLOR_BGR2GRAY) \n",
    "      \n",
    "    # Calculates dense optical flow by Farneback method \n",
    "    flow = cv.calcOpticalFlowFarneback(prev_gray, gray,  \n",
    "                                       None, \n",
    "                                       0.5, 3, 15, 3, 5, 1.2, 0) \n",
    "      \n",
    "    # Computes the magnitude and angle of the 2D vectors \n",
    "    magnitude, angle = cv.cartToPolar(flow[..., 0], flow[..., 1]) \n",
    "      \n",
    "    # Sets image hue according to the optical flow  \n",
    "    # direction \n",
    "    mask[..., 0] = angle * 180 / np.pi / 2\n",
    "      \n",
    "    # Sets image value according to the optical flow \n",
    "    # magnitude (normalized) \n",
    "    mask[..., 2] = cv.normalize(magnitude, None, 0, 255, cv.NORM_MINMAX) \n",
    "      \n",
    "    # Converts HSV to RGB (BGR) color representation \n",
    "    rgb = cv.cvtColor(mask, cv.COLOR_HSV2BGR) \n",
    "      \n",
    "    # Opens a new window and displays the output frame \n",
    "    cv.imshow(\"dense optical flow\", rgb) \n",
    "      \n",
    "    # Updates previous frame \n",
    "    prev_gray = gray \n",
    "      \n",
    "    # Frames are read by intervals of 1 millisecond. The \n",
    "    # programs breaks out of the while loop when the \n",
    "    # user presses the 'q' key \n",
    "    if cv.waitKey(1) & 0xFF == ord('q'): \n",
    "        break\n",
    "  \n",
    "# The following frees up resources and \n",
    "# closes all windows \n",
    "cap.release() \n",
    "cv.destroyAllWindows() "
   ]
  }
 ],
 "metadata": {
  "kernelspec": {
   "display_name": "Python 3 (ipykernel)",
   "language": "python",
   "name": "python3"
  },
  "language_info": {
   "codemirror_mode": {
    "name": "ipython",
    "version": 3
   },
   "file_extension": ".py",
   "mimetype": "text/x-python",
   "name": "python",
   "nbconvert_exporter": "python",
   "pygments_lexer": "ipython3",
   "version": "3.11.5"
  }
 },
 "nbformat": 4,
 "nbformat_minor": 5
}
