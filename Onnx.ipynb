{
 "cells": [
  {
   "cell_type": "code",
   "execution_count": null,
   "id": "2809713b-7fb5-4e97-a85f-976ee7fb7062",
   "metadata": {},
   "outputs": [],
   "source": [
    "!pip install onnx\n",
    "!pip install onnxscript"
   ]
  },
  {
   "cell_type": "code",
   "execution_count": null,
   "id": "37a091c6-c04f-4b5f-90a7-f19fdc7624ea",
   "metadata": {},
   "outputs": [],
   "source": [
    "import torch\n",
    "model = torch.hub.load('pytorch/vision:v0.10.0', 'resnet50', pretrained=True)\n",
    "model = model.to(torch.float16)\n",
    "model.eval()"
   ]
  },
  {
   "cell_type": "code",
   "execution_count": 11,
   "id": "79bdc24d-72cf-43fc-8f40-8e5185251b3d",
   "metadata": {},
   "outputs": [],
   "source": [
    "import cv2\n",
    "import torchvision.transforms as transforms \n",
    "from PIL import Image\n",
    "\n",
    "input_image = Image.open(\"1.jpg\")\n",
    "\n",
    "\n",
    "preprocess = transforms.Compose([\n",
    "    transforms.Resize(256),\n",
    "    transforms.CenterCrop(224),\n",
    "    transforms.ToTensor(),\n",
    "    transforms.Normalize(mean=[0.485, 0.456, 0.406], std=[0.229, 0.224, 0.225]),\n",
    "])"
   ]
  },
  {
   "cell_type": "code",
   "execution_count": 15,
   "id": "e07e2f6d-a8c1-44d6-909d-c99b2e9916fb",
   "metadata": {},
   "outputs": [],
   "source": [
    "input_tensor = preprocess(input_image)\n",
    "input_batch = input_tensor.unsqueeze(0) # create a mini-batch as expected by the model\n",
    "\n",
    "# move the input and model to GPU for speed if available\n",
    "if torch.cuda.is_available():\n",
    "    input_batch = input_batch.to(torch.float16).to('cuda')\n",
    "    model.to('cuda')\n",
    "with torch.no_grad():\n",
    "    output = model(input_batch)"
   ]
  },
  {
   "cell_type": "code",
   "execution_count": 18,
   "id": "dd04b5e4-f082-47ec-af41-4700204b656c",
   "metadata": {},
   "outputs": [
    {
     "name": "stdout",
     "output_type": "stream",
     "text": [
      " \n",
      "Model has been converted to ONNX\n"
     ]
    }
   ],
   "source": [
    "torch.onnx.export(model,         # model being run \n",
    "         input_batch,       # model input (or a tuple for multiple inputs) \n",
    "         \"Network.onnx\",       # where to save the model  \n",
    "         export_params=True,  # store the trained parameter weights inside the model file \n",
    "         opset_version=11,    # the ONNX version to export the model to \n",
    "         do_constant_folding=True,  # whether to execute constant folding for optimization \n",
    "         input_names = ['input'],   # the model's input names \n",
    "         output_names = ['output'], # the model's output names \n",
    "         dynamic_axes={'input' : {0 : 'batch_size'},    # variable length axes \n",
    "                                'output' : {0 : 'batch_size'}})\n",
    "print(\" \") \n",
    "print('Model has been converted to ONNX') "
   ]
  },
  {
   "cell_type": "code",
   "execution_count": 21,
   "id": "2f5b13b6-b2e6-4096-8ef7-46104bb06d28",
   "metadata": {},
   "outputs": [
    {
     "name": "stdout",
     "output_type": "stream",
     "text": [
      "Requirement already satisfied: onnxruntime in c:\\workspace\\projects\\talk\\venv\\lib\\site-packages (1.17.1)\n",
      "Requirement already satisfied: coloredlogs in c:\\workspace\\projects\\talk\\venv\\lib\\site-packages (from onnxruntime) (15.0.1)\n",
      "Requirement already satisfied: flatbuffers in c:\\workspace\\projects\\talk\\venv\\lib\\site-packages (from onnxruntime) (24.3.7)\n",
      "Requirement already satisfied: numpy>=1.24.2 in c:\\workspace\\projects\\talk\\venv\\lib\\site-packages (from onnxruntime) (1.26.3)\n",
      "Requirement already satisfied: packaging in c:\\workspace\\projects\\talk\\venv\\lib\\site-packages (from onnxruntime) (23.2)\n",
      "Requirement already satisfied: protobuf in c:\\workspace\\projects\\talk\\venv\\lib\\site-packages (from onnxruntime) (4.25.3)\n",
      "Requirement already satisfied: sympy in c:\\workspace\\projects\\talk\\venv\\lib\\site-packages (from onnxruntime) (1.12)\n",
      "Requirement already satisfied: humanfriendly>=9.1 in c:\\workspace\\projects\\talk\\venv\\lib\\site-packages (from coloredlogs->onnxruntime) (10.0)\n",
      "Requirement already satisfied: mpmath>=0.19 in c:\\workspace\\projects\\talk\\venv\\lib\\site-packages (from sympy->onnxruntime) (1.3.0)\n",
      "Requirement already satisfied: pyreadline3 in c:\\workspace\\projects\\talk\\venv\\lib\\site-packages (from humanfriendly>=9.1->coloredlogs->onnxruntime) (3.4.1)\n"
     ]
    },
    {
     "name": "stderr",
     "output_type": "stream",
     "text": [
      "\n",
      "[notice] A new release of pip is available: 23.2.1 -> 24.0\n",
      "[notice] To update, run: python.exe -m pip install --upgrade pip\n"
     ]
    }
   ],
   "source": [
    "!pip install onnxruntime\n"
   ]
  },
  {
   "cell_type": "code",
   "execution_count": null,
   "id": "1862c1ab-00ee-4cb3-bec6-0603d23a0ff1",
   "metadata": {},
   "outputs": [],
   "source": [
    "import onnx\n",
    "onnx_model = onnx.load(\"Network.onnx\")\n",
    "onnx.checker.check_model(onnx_model)\n",
    "\n",
    "import onnxruntime as ort\n",
    "import numpy as np\n",
    "\n",
    "ort_sess = ort.InferenceSession('Network.onnx')\n",
    "outputs = ort_sess.run(None, {'input': input_batch.cpu().numpy()})\n",
    "\n",
    "outputs"
   ]
  },
  {
   "cell_type": "code",
   "execution_count": 28,
   "id": "a3d5985b-4c65-4943-a487-36f66c3c0798",
   "metadata": {},
   "outputs": [
    {
     "name": "stdout",
     "output_type": "stream",
     "text": [
      "Total Entries: 7                                                                \n",
      "Use the following command to open the report:\n",
      "\u001b[92mvizviewer C:\\workspace\\projects\\talk\\onnx_inference.json\u001b[0m\n"
     ]
    }
   ],
   "source": [
    "ort_sess = ort.InferenceSession('Network.onnx')\n",
    "data = {'input': input_batch.cpu().numpy()}\n",
    "\n",
    "from viztracer import VizTracer\n",
    "\n",
    "with VizTracer(output_file=\"onnx_inference.json\") as tracer:\n",
    "    # Something happens here\n",
    "    outputs = ort_sess.run(None, data)"
   ]
  },
  {
   "cell_type": "code",
   "execution_count": 31,
   "id": "09eabc52-920f-4b93-8a44-ea6ec8127cf5",
   "metadata": {},
   "outputs": [
    {
     "name": "stdout",
     "output_type": "stream",
     "text": [
      "Total Entries: 1947                                                             \n",
      "Use the following command to open the report:\n",
      "\u001b[92mvizviewer C:\\workspace\\projects\\talk\\torch_inference.json\u001b[0m\n"
     ]
    }
   ],
   "source": [
    "input_batch = input_batch.to(torch.float16).to('cpu')\n",
    "model.to('cpu')\n",
    "\n",
    "with VizTracer(output_file=\"torch_inference.json\") as tracer:\n",
    "    with torch.no_grad():\n",
    "        output = model(input_batch)"
   ]
  },
  {
   "cell_type": "code",
   "execution_count": 32,
   "id": "fdb4ba26-2331-42b4-ba4f-a46c4b22eb3b",
   "metadata": {},
   "outputs": [
    {
     "name": "stdout",
     "output_type": "stream",
     "text": [
      "torch.Size([1, 3, 224, 224])\n"
     ]
    }
   ],
   "source": [
    "print(input_batch.shape)"
   ]
  },
  {
   "cell_type": "code",
   "execution_count": null,
   "id": "ee164ebd-fb52-4f68-8dad-448f64565edf",
   "metadata": {},
   "outputs": [],
   "source": []
  }
 ],
 "metadata": {
  "kernelspec": {
   "display_name": "Python 3 (ipykernel)",
   "language": "python",
   "name": "python3"
  },
  "language_info": {
   "codemirror_mode": {
    "name": "ipython",
    "version": 3
   },
   "file_extension": ".py",
   "mimetype": "text/x-python",
   "name": "python",
   "nbconvert_exporter": "python",
   "pygments_lexer": "ipython3",
   "version": "3.11.5"
  }
 },
 "nbformat": 4,
 "nbformat_minor": 5
}
